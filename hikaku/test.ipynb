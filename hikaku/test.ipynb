{
 "cells": [
  {
   "cell_type": "code",
   "execution_count": 2,
   "id": "276f0fc0",
   "metadata": {},
   "outputs": [],
   "source": [
    "import tkinter as tk\n",
    "from tkinter import ttk, filedialog, messagebox\n",
    "import xml.etree.ElementTree as ET\n",
    "import difflib\n",
    "from typing import List, Tuple, Dict\n",
    "import re"
   ]
  },
  {
   "cell_type": "code",
   "execution_count": 3,
   "id": "88ab963a",
   "metadata": {},
   "outputs": [],
   "source": [
    "def create_sample_xml(filename: str, sections: List[Tuple[str, str]]):\n",
    "    \"\"\"テスト用のサンプルXMLファイルを作成\"\"\"\n",
    "    root = ET.Element(\"document\")\n",
    "    \n",
    "    for tag, content in sections:\n",
    "        section = ET.SubElement(root, tag)\n",
    "        section.text = content\n",
    "    \n",
    "    tree = ET.ElementTree(root)\n",
    "    tree.write(filename, encoding='utf-8', xml_declaration=True)\n",
    "    print(f\"サンプルファイル '{filename}' を作成しました．\")"
   ]
  },
  {
   "cell_type": "code",
   "execution_count": 4,
   "id": "c39d4861",
   "metadata": {},
   "outputs": [],
   "source": [
    "def create_test_files():\n",
    "    \"\"\"テスト用のXMLファイルを作成\"\"\"\n",
    "    # サンプル1\n",
    "    sections1 = [\n",
    "        (\"introduction\", \"これは最初のセクションです．XMLファイルの比較テストを行います．\"),\n",
    "        (\"main\", \"メインセクションには重要な情報が含まれています．複数の文章があります．\"),\n",
    "        (\"conclusion\", \"結論として，このツールは便利です．\"),\n",
    "        (\"appendix\", \"追加情報をここに記載します．\")\n",
    "    ]\n",
    "    create_sample_xml(\"sample1.xml\", sections1)\n",
    "    \n",
    "    # サンプル2（一部異なる）\n",
    "    sections2 = [\n",
    "        (\"introduction\", \"これは最初のセクションです．XMLドキュメントの比較テストを実施します．\"),\n",
    "        (\"main\", \"メインセクションには重要なデータが含まれています．いくつかの文章があります．\"),\n",
    "        (\"conclusion\", \"まとめとして，このツールは非常に便利です．\"),\n",
    "        (\"appendix\", \"追加情報をここに記載します．\")\n",
    "    ]\n",
    "    create_sample_xml(\"sample2.xml\", sections2)"
   ]
  },
  {
   "cell_type": "code",
   "execution_count": 5,
   "id": "b718a9b9",
   "metadata": {},
   "outputs": [
    {
     "name": "stdout",
     "output_type": "stream",
     "text": [
      "サンプルファイル 'sample1.xml' を作成しました．\n",
      "サンプルファイル 'sample2.xml' を作成しました．\n",
      "\n",
      "テストファイルを作成しました．\n",
      "プログラムを通常実行して，sample1.xml と sample2.xml を比較してください．\n"
     ]
    }
   ],
   "source": [
    "create_test_files()\n",
    "print(\"\\nテストファイルを作成しました．\")\n",
    "print(\"プログラムを通常実行して，sample1.xml と sample2.xml を比較してください．\")"
   ]
  }
 ],
 "metadata": {
  "kernelspec": {
   "display_name": "venv",
   "language": "python",
   "name": "python3"
  },
  "language_info": {
   "codemirror_mode": {
    "name": "ipython",
    "version": 3
   },
   "file_extension": ".py",
   "mimetype": "text/x-python",
   "name": "python",
   "nbconvert_exporter": "python",
   "pygments_lexer": "ipython3",
   "version": "3.12.7"
  }
 },
 "nbformat": 4,
 "nbformat_minor": 5
}
